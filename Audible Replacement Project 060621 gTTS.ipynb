{
 "cells": [
  {
   "cell_type": "code",
   "execution_count": null,
   "id": "c45e921b",
   "metadata": {},
   "outputs": [],
   "source": [
    "#!pip install gTTS\n",
    "\n",
    "from gtts import gTTS\n",
    "import os\n",
    "\n",
    "book_name = input('Please enter the complete file name you want to convert to audio including extension')\n",
    "with open(book_name, 'r') as file:\n",
    "    data = file.read().replace('\\n', '')\n",
    "my_job = gTTS(text = data, lang ='en', slow = True)\n",
    "\n",
    "name =book_name.split('.')[0] +'.mp3'\n",
    "my_job.save(name)\n",
    "#os.system(\"mpg321 abc.mp3\")\n",
    "print('done')"
   ]
  }
 ],
 "metadata": {
  "kernelspec": {
   "display_name": "Python 3",
   "language": "python",
   "name": "python3"
  },
  "language_info": {
   "codemirror_mode": {
    "name": "ipython",
    "version": 3
   },
   "file_extension": ".py",
   "mimetype": "text/x-python",
   "name": "python",
   "nbconvert_exporter": "python",
   "pygments_lexer": "ipython3",
   "version": "3.7.10"
  }
 },
 "nbformat": 4,
 "nbformat_minor": 5
}
