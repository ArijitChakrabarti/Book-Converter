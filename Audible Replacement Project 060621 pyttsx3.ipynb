{
 "cells": [
  {
   "cell_type": "code",
   "execution_count": null,
   "id": "d15d71a0",
   "metadata": {},
   "outputs": [],
   "source": [
    "#!pip install pyttsx3\n",
    "import pyttsx3\n",
    "engine = pyttsx3.init()\n",
    "\n",
    "rate = engine.getProperty('rate') \n",
    "print (rate)                       \n",
    "engine.setProperty('rate', 150)   \n",
    "\n",
    "voices = engine.getProperty('voices')       \n",
    "engine.setProperty('voice', voices[1].id)   \n",
    "\n",
    "book_name = input('Please enter the complete file name you want to convert to audio including extension')\n",
    "\n",
    "with open(book_name, 'r') as file:\n",
    "    data = file.read().replace('\\n', '')\n",
    "name =book_name.split('.')[0] +'.mp3'\n",
    "engine.save_to_file(data , name)\n",
    "engine.runAndWait()\n",
    "print('Conversion Done!')"
   ]
  }
 ],
 "metadata": {
  "kernelspec": {
   "display_name": "Python 3",
   "language": "python",
   "name": "python3"
  },
  "language_info": {
   "codemirror_mode": {
    "name": "ipython",
    "version": 3
   },
   "file_extension": ".py",
   "mimetype": "text/x-python",
   "name": "python",
   "nbconvert_exporter": "python",
   "pygments_lexer": "ipython3",
   "version": "3.7.10"
  }
 },
 "nbformat": 4,
 "nbformat_minor": 5
}
